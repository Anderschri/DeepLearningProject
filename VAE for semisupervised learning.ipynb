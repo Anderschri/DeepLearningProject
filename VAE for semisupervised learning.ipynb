{
 "cells": [
  {
   "cell_type": "markdown",
   "metadata": {},
   "source": [
    "Recreate results of full model for MNIST dataset (does not calculate variational lower bound by default. Add --calc_nll if wanted. Warning: takes a long time)"
   ]
  },
  {
   "cell_type": "code",
   "execution_count": null,
   "metadata": {},
   "outputs": [],
   "source": [
    "!python3 \"./ssvae_pcnn.py\" --evaluate --cuda=0 --output_dir=\"./ssvae_pcnn_results\" --restore_file=\"./ssvae_pcnnpp_mnist_trained.pt\" --dataset=mnist"
   ]
  },
  {
   "cell_type": "markdown",
   "metadata": {},
   "source": [
    "Train full model for MNIST dataset:"
   ]
  },
  {
   "cell_type": "code",
   "execution_count": null,
   "metadata": {},
   "outputs": [],
   "source": [
    "!python3 \"./ssvae_pcnn.py\" --train --cuda=0 --data_dir=.. --output_dir=\"./ssvae_pcnn_results\" --restore_file=\"./ssvae_pcnnpp_mnist_trained.pt\" --dataset=mnist --n"
   ]
  },
  {
   "cell_type": "markdown",
   "metadata": {},
   "source": [
    "Recreate classification results of reference model for MNIST dataset (does not calculate variational lower bound by default. Add --calc_nll if wanted. Warning: takes a long time):"
   ]
  },
  {
   "cell_type": "code",
   "execution_count": null,
   "metadata": {},
   "outputs": [],
   "source": [
    "!python3 \"./ssvae_reference.py\" --evaluate --cuda=0 --output_dir=\"./ssvae_reference_results\" --restore_file=\"./ssvae_reference_mnist_trained.pt\" --dataset=mnist --z_dim=64"
   ]
  },
  {
   "cell_type": "markdown",
   "metadata": {},
   "source": [
    "Train reference model for MNIST"
   ]
  },
  {
   "cell_type": "code",
   "execution_count": null,
   "metadata": {},
   "outputs": [],
   "source": [
    "!python3 \"./ssvae_reference.py\" --train --cuda=0 --output_dir=\"./ssvae_reference_results\" --dataset=mnist --z_dim=64"
   ]
  },
  {
   "cell_type": "markdown",
   "execution_count": null,
   "metadata": {},
   "outputs": [],
   "source": [
    "Recreate results of full model for CIFAR10 dataset"
   ]
  },
  {
   "cell_type": "code",
   "execution_count": null,
   "metadata": {},
   "outputs": [],
   "source": [
    "!python3 \"./ssvae_pcnn.py\" --evaluate --cuda=0 --output_dir=\"./ssvae_cifar_pcnn_results\" --restore_file=\"./ssvae_pcnnpp_cifar_trained\" --dataset=cifar10"
   ]
  },
  {
   "cell_type": "markdown",
   "execution_count": null,
   "metadata": {},
   "outputs": [],
   "source": [
    "Train full model for CIFAR10 dataset:"
   ]
  },
  {
   "cell_type": "code",
   "execution_count": null,
   "metadata": {},
   "outputs": [],
   "source": [
    "!python3 \"./ssvae_pcnn.py\" --train --cuda=0 --data_dir=.. --output_dir=\"./ssvae_cifar_pcnn_results\"  --dataset=cifar10 --n_labeled=20000"
   ]
  },
  {
   "cell_type": "markdown",
   "execution_count": null,
   "metadata": {},
   "outputs": [],
   "source": [
    "Recreate results of reference model for CIFAR10 dataset"
   ]
  },
  {
   "cell_type": "code",
   "execution_count": null,
   "metadata": {},
   "outputs": [],
   "source": [
    "!python3 \"./ssvae_reference.py\" --evaluate --cuda=0 --output_dir=\"./ssvae_cifar_reference_results\" --restore_file=\"./ssvae_pcnnpp_cifar_standard_trained\" --dataset=cifar10"
   ]
  },
  {
   "cell_type": "markdown",
   "execution_count": 1,
   "metadata": {},
   "outputs": [
    {
     "ename": "SyntaxError",
     "evalue": "invalid syntax (<ipython-input-1-c59683a5d8ee>, line 1)",
     "output_type": "error",
     "traceback": [
      "\u001b[1;36m  File \u001b[1;32m\"<ipython-input-1-c59683a5d8ee>\"\u001b[1;36m, line \u001b[1;32m1\u001b[0m\n\u001b[1;33m    Train reference model for MNIST\u001b[0m\n\u001b[1;37m                  ^\u001b[0m\n\u001b[1;31mSyntaxError\u001b[0m\u001b[1;31m:\u001b[0m invalid syntax\n"
     ]
    }
   ],
   "source": [
    "Train reference model for MNIST"
   ]
  },
  {
   "cell_type": "code",
   "execution_count": null,
   "metadata": {},
   "outputs": [],
   "source": [
    "!python3 \"./ssvae_reference.py\" --train --cuda=0 --output_dir=\"./ssvae_cifar_reference_results\" --dataset=cifar10 --n_labeled=20000"
   ]
  }
 ],
 "metadata": {
  "kernelspec": {
   "display_name": "Python 3",
   "language": "python",
   "name": "python3"
  },
  "language_info": {
   "codemirror_mode": {
    "name": "ipython",
    "version": 3
   },
   "file_extension": ".py",
   "mimetype": "text/x-python",
   "name": "python",
   "nbconvert_exporter": "python",
   "pygments_lexer": "ipython3",
   "version": "3.7.3"
  }
 },
 "nbformat": 4,
 "nbformat_minor": 2
}