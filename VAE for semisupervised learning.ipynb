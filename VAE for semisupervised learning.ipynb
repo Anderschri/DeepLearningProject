{
 "cells": [
  {
   "cell_type": "markdown",
   "metadata": {},
   "source": [
    "Recreate results of full model for MNIST dataset (does not calculate variational lower bound by default. Add --calc_nll if wanted. Warning: takes a long time)"
   ]
  },
  {
   "cell_type": "code",
   "execution_count": null,
   "metadata": {},
   "outputs": [],
   "source": [
    "!python3 \"./ssvae_pcnn.py\" --evaluate --cuda=0 --output_dir=\"./ssvae_pcnn_results\" --restore_file=\"./ssvae_pcnnpp_mnist_trained.pt\" --dataset=mnist"
   ]
  },
  {
   "cell_type": "markdown",
   "metadata": {},
   "source": [
    "Train full model for MNIST dataset:"
   ]
  },
  {
   "cell_type": "code",
   "execution_count": null,
   "metadata": {},
   "outputs": [],
   "source": [
    "python3 ssvae_pcnn --train --cuda=0 --data_dir=.. --output_dir=./ssvae_pcnn_results --restore_file=ssvae_pcnn_model_state --dataset=mnist --n"
   ]
  },
  {
   "cell_type": "markdown",
   "metadata": {},
   "source": [
    "Recreate classification results of reference model for MNIST dataset (does not calculate variational lower bound by default. Add --calc_nll if wanted. Warning: takes a long time):"
   ]
  },
  {
   "cell_type": "code",
   "execution_count": null,
   "metadata": {},
   "outputs": [],
   "source": [
    "!python3 \"./ssvae_reference.py\" --evaluate --cuda=0 --output_dir=\"./ssvae_reference_results\" --restore_file=\"./ssvae_reference_mnist_trained.pt\" --dataset=mnist --z_dim=64"
   ]
  },
  {
   "cell_type": "markdown",
   "metadata": {},
   "source": [
    "Train reference model for MNIST"
   ]
  },
  {
   "cell_type": "code",
   "execution_count": null,
   "metadata": {},
   "outputs": [],
   "source": [
    "!python3 \"./ssvae_reference.py\" --train --cuda=0 --output_dir=\"./ssvae_reference_results\" --dataset=mnist --z_dim=64"
   ]
  }
 ],
 "metadata": {
  "kernelspec": {
   "display_name": "Python 3",
   "language": "python",
   "name": "python3"
  },
  "language_info": {
   "codemirror_mode": {
    "name": "ipython",
    "version": 3
   },
   "file_extension": ".py",
   "mimetype": "text/x-python",
   "name": "python",
   "nbconvert_exporter": "python",
   "pygments_lexer": "ipython3",
   "version": "3.6.8"
  }
 },
 "nbformat": 4,
 "nbformat_minor": 2
}
